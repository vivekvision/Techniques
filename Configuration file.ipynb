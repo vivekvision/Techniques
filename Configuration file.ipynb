{
 "cells": [
  {
   "cell_type": "markdown",
   "id": "1e44bc9c",
   "metadata": {},
   "source": [
    "To persist configuration settings in a .config file, configparser module can be used"
   ]
  },
  {
   "cell_type": "markdown",
   "id": "7c336199",
   "metadata": {},
   "source": [
    "read_config() function reads the configuration settings from the .config file Worker.config and returns a ConfigParser object. \n",
    "\n",
    "write_config() function takes a ConfigParser object and writes it to the file."
   ]
  },
  {
   "cell_type": "code",
   "execution_count": 27,
   "id": "7ee237b7",
   "metadata": {},
   "outputs": [],
   "source": [
    "import configparser\n",
    "\n",
    "def read_config(file_name):\n",
    "    config = configparser.ConfigParser()\n",
    "    config.read(file_name)\n",
    "    return config\n",
    "\n",
    "def write_config(config, file_name):\n",
    "    with open(file_name, 'w') as config_file:\n",
    "        config.write(config_file)"
   ]
  },
  {
   "cell_type": "code",
   "execution_count": 28,
   "id": "46b993a6",
   "metadata": {},
   "outputs": [],
   "source": [
    "# Example usage:\n",
    "file_name = 'Worker1.config'"
   ]
  },
  {
   "cell_type": "code",
   "execution_count": 29,
   "id": "1e12c6d3",
   "metadata": {},
   "outputs": [],
   "source": [
    "# Reading configuration from the file\n",
    "config = read_config(file_name)"
   ]
  },
  {
   "cell_type": "code",
   "execution_count": 30,
   "id": "125a4a52",
   "metadata": {},
   "outputs": [],
   "source": [
    "# Writing configuration to the file\n",
    "write_config(config, file_name)"
   ]
  },
  {
   "cell_type": "code",
   "execution_count": 31,
   "id": "08703629",
   "metadata": {},
   "outputs": [],
   "source": [
    "if not config.has_section('Credentials'):\n",
    "    config.add_section('Credentials')"
   ]
  },
  {
   "cell_type": "code",
   "execution_count": 32,
   "id": "0c7e965a",
   "metadata": {},
   "outputs": [],
   "source": [
    "config.set('Credentials', 'username', 'admin')\n",
    "config.set('Credentials', 'password', 'pass123')"
   ]
  },
  {
   "cell_type": "code",
   "execution_count": 33,
   "id": "eddb4b41",
   "metadata": {},
   "outputs": [],
   "source": [
    "# Writing configuration to the file\n",
    "write_config(config, file_name)"
   ]
  },
  {
   "cell_type": "code",
   "execution_count": null,
   "id": "0ff8e611",
   "metadata": {},
   "outputs": [],
   "source": []
  },
  {
   "cell_type": "code",
   "execution_count": 34,
   "id": "bca6acaa",
   "metadata": {},
   "outputs": [],
   "source": [
    "# Reading configuration from the file\n",
    "config1 = read_config(file_name)"
   ]
  },
  {
   "cell_type": "code",
   "execution_count": 35,
   "id": "5d9eb04c",
   "metadata": {},
   "outputs": [],
   "source": [
    "# Accessing configuration values\n",
    "username = config1.get('Credentials', 'username', fallback='default_username')\n",
    "password = config1.get('Credentials', 'password', fallback='default_password')"
   ]
  },
  {
   "cell_type": "code",
   "execution_count": 36,
   "id": "5bc46036",
   "metadata": {},
   "outputs": [
    {
     "data": {
      "text/plain": [
       "'admin'"
      ]
     },
     "execution_count": 36,
     "metadata": {},
     "output_type": "execute_result"
    }
   ],
   "source": [
    "username"
   ]
  },
  {
   "cell_type": "code",
   "execution_count": 37,
   "id": "ee9ae3ce",
   "metadata": {},
   "outputs": [
    {
     "data": {
      "text/plain": [
       "'pass123'"
      ]
     },
     "execution_count": 37,
     "metadata": {},
     "output_type": "execute_result"
    }
   ],
   "source": [
    "password"
   ]
  },
  {
   "cell_type": "code",
   "execution_count": null,
   "id": "b558a9ae",
   "metadata": {},
   "outputs": [],
   "source": []
  },
  {
   "cell_type": "code",
   "execution_count": 39,
   "id": "52a40190",
   "metadata": {},
   "outputs": [],
   "source": [
    "import configparser\n",
    "\n",
    "# Create a new configuration object\n",
    "config = configparser.ConfigParser()\n",
    "\n",
    "# Add sections and set key-value pairs\n",
    "config.add_section('General')\n",
    "config.set('General', 'server', 'localhost')\n",
    "config.set('General', 'port', '8080')\n",
    "\n",
    "config.add_section('Credentials')\n",
    "config.set('Credentials', 'username', 'admin')\n",
    "config.set('Credentials', 'password', 'password123')\n",
    "\n",
    "config.add_section('Database')\n",
    "config.set('Database', 'host', 'localhost')\n",
    "config.set('Database', 'port', '3306')\n",
    "config.set('Database', 'database', 'mydb')\n",
    "config.set('Database', 'username', 'dbuser')\n",
    "config.set('Database', 'password', 'dbpassword')\n",
    "\n",
    "# Write configuration to a file\n",
    "with open('Worker2.config', 'w') as config_file:\n",
    "    config.write(config_file)"
   ]
  },
  {
   "cell_type": "code",
   "execution_count": null,
   "id": "a0395b6f",
   "metadata": {},
   "outputs": [],
   "source": []
  }
 ],
 "metadata": {
  "kernelspec": {
   "display_name": "Python 3 (ipykernel)",
   "language": "python",
   "name": "python3"
  },
  "language_info": {
   "codemirror_mode": {
    "name": "ipython",
    "version": 3
   },
   "file_extension": ".py",
   "mimetype": "text/x-python",
   "name": "python",
   "nbconvert_exporter": "python",
   "pygments_lexer": "ipython3",
   "version": "3.10.9"
  }
 },
 "nbformat": 4,
 "nbformat_minor": 5
}
